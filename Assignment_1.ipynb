{
  "nbformat": 4,
  "nbformat_minor": 0,
  "metadata": {
    "colab": {
      "provenance": []
    },
    "kernelspec": {
      "name": "python3",
      "display_name": "Python 3"
    },
    "language_info": {
      "name": "python"
    }
  },
  "cells": [
    {
      "cell_type": "markdown",
      "source": [
        "# **Python Basic Questions**"
      ],
      "metadata": {
        "id": "tBBXx-St_oAv"
      }
    },
    {
      "cell_type": "markdown",
      "source": [
        "**Ans 1.)** Python is a programming language used to give commands to the computer to perform some specific taks.\n",
        "* Python is famous for:\n",
        "\n",
        "  *   Python is a beginner friendly language which make it easier to understand for everyone.\n",
        "  *   Python has a vast number of libraries which are continuesly developing.\n",
        "  *   Python is an open source and is widely use in industries.\n",
        "\n",
        "These features make python so famous.\n",
        "\n",
        "\n",
        "\n"
      ],
      "metadata": {
        "id": "flhhCcRZ_0JC"
      }
    },
    {
      "cell_type": "markdown",
      "source": [
        "**Ans 2.)** An interpreter is a computer program which executes the program line by line.\n",
        "* An interpreter executes the code directly.\n",
        "* It doesn't require an intermediate code.\n",
        "* Python uses Interpreter to execute programs.\n",
        "* However python is considered slower than the languages uses compiler(a program that executes the program at once.) like Java, C, etc."
      ],
      "metadata": {
        "id": "RxefuwakB4Ej"
      }
    },
    {
      "cell_type": "markdown",
      "source": [
        "**Ans 3.)** Pre-Defined keywords are those keywords which are already implemented by the developer within the language. These are inbuilt keywords.\n",
        "* Eg: If, while, not, break, etc."
      ],
      "metadata": {
        "id": "FvxVgmscDlCz"
      }
    },
    {
      "cell_type": "code",
      "source": [
        "#All keywords can be cheked as\n",
        "\n",
        "help(\"keywords\")"
      ],
      "metadata": {
        "id": "dT2JW3ZTF8M6"
      },
      "execution_count": null,
      "outputs": []
    },
    {
      "cell_type": "markdown",
      "source": [
        "**Ans 4.)** In python using a keyword is possible however it is adviced to not use keywords as variable.\n",
        "* As when the function of those keyword requires than they will not perform their function and act like a variable.\n"
      ],
      "metadata": {
        "id": "rXl_mNmUEgvq"
      }
    },
    {
      "cell_type": "code",
      "source": [
        "#Example\n",
        "\n",
        "print=5;\n",
        "print(print)"
      ],
      "metadata": {
        "id": "YKmToNmfFY5K"
      },
      "execution_count": null,
      "outputs": []
    },
    {
      "cell_type": "markdown",
      "source": [
        "Here the print function acts like a variable even if it called as a keyword."
      ],
      "metadata": {
        "id": "LQVkLeYZFo2x"
      }
    },
    {
      "cell_type": "markdown",
      "source": [
        "**Ans 5.)**\n",
        "* Mutability in python means the feature to change .\n",
        "* Mutability in python gives python a feature by which any object's internal data.\n",
        "* Because of that user didn't have to create an another object to implement new data"
      ],
      "metadata": {
        "id": "pWFjmfwgLUEF"
      }
    },
    {
      "cell_type": "markdown",
      "source": [
        "**Ans 6.)**\n",
        "* Mutable : Something that can change\n",
        "   *  List is called as mutable because it's data is changeble.\n",
        "   *  User can change whenever he wants and however he wants.\n",
        "* Unmutable: Something that can't be changed\n",
        "  * Tuple is called unmutable because once the data get stored in a tuple than user cannot change.\n",
        "  * Tuple is like a permanent container of data.\n",
        "\n"
      ],
      "metadata": {
        "id": "6Uz-9dmrF3CI"
      }
    },
    {
      "cell_type": "markdown",
      "source": [
        "**Ans 7.)**\n",
        "* Equality operator (==):\n",
        "    * Equality operator assign a constant value to a variable.\n",
        "    * Equality operator is also use to asign a veriable to another variable\n",
        "* is operator :\n",
        "    * is operator works on memory level.\n",
        "    * is operator assign the memory address of a variable to the another."
      ],
      "metadata": {
        "id": "2sgoF6MCJrml"
      }
    },
    {
      "cell_type": "markdown",
      "source": [
        "**Ans 8.)** Logical operators: Logical operators are used to synthesis the statements and create a result from them.\n",
        "* Logical operators type:\n",
        "    * (i) And operator:\n",
        "        * And operator is used to synthesis two statements.\n",
        "        * And operator act like a multiplication operator of statements.\n",
        "        * Eg: True and false --Result-> False\n",
        "    * (ii) Or operator:\n",
        "        * Or operators act as an addition operator on statments.\n",
        "        * If one of the statement get true then it will result true.\n",
        "        * Eg: True or False --result-> True\n",
        "    * (iii) not operator:\n",
        "        * not operator is as a negation operator of the statements.\n",
        "        * If the statement is true then it will show false as output and vice-versa.\n",
        "        * Eg: True--Result-> False\n"
      ],
      "metadata": {
        "id": "zjJyL7lVLEWW"
      }
    },
    {
      "cell_type": "markdown",
      "source": [
        "**Ans 9.)**\n",
        "Type-casting: Type casting means type conversion.\n",
        "  * In easy language: converting one type of data in another type of data is known as type conversion.\n",
        "  * In python by type casting one element is converted\n",
        "  into another type of data which helps the user in many places during code writing.\n",
        "  * Eg:\n",
        "        int --Convert-> float\n",
        "        string--Convert-> int\n",
        "        int--convert->bool, etc.      "
      ],
      "metadata": {
        "id": "cax4-6b-QwrZ"
      }
    },
    {
      "cell_type": "markdown",
      "source": [
        "**Ans 10.)**\n",
        "Implicit type conversion:\n",
        "  * In this type of conversion python without the user's help convert the data in another data type and then perform operation.\n",
        "  * Eg:10+100.0\n",
        "  * Here python itself convert the integer value in float and then add it.\n",
        "Explicit type conversion:\n",
        "  * In Explicit type conversion user change the data to another type.\n",
        "  * for this user use int(), Float(), str(), etc. functions.\n",
        "  Eg: \"2\"+10\n",
        "      * int(\"2\")+10 --result-> 12"
      ],
      "metadata": {
        "id": "DS_CpraYSJUj"
      }
    },
    {
      "cell_type": "markdown",
      "source": [
        "**Ans 11.)**\n",
        "Conditiononal statements: conditional statements are used to implement the operation which have same work function with a little bit change.\n",
        "* Like printing \"Hello world!\" for a small number like 10, 20, even 50 is easy but if the same has to type for 100 or 1000 times then it will be hard.\n",
        "* So to solve these problems conditional statements are use.\n",
        "* In most of the programs conditional statements are used as the main machine holding codes within it and performing operations."
      ],
      "metadata": {
        "id": "Qnh951QRUUCM"
      }
    },
    {
      "cell_type": "markdown",
      "source": [
        "**Ans 12:)**\n",
        "  Elif Statement:\n",
        "    * Elif statements are used in if-elif-else loop.\n",
        "    * Elif is used when their are more than two conditions occured in the if else loop.**bold text**\n"
      ],
      "metadata": {
        "id": "NaIhHubwVtoU"
      }
    },
    {
      "cell_type": "code",
      "source": [
        "#Example\n",
        "\n",
        "a=\"Red\"\n",
        "if(a==\"Red\"):\n",
        "  print(\"Color is Red\")\n",
        "elif(a==\"Blue\"):\n",
        "  print(\"Color is Blue\")\n",
        "else:\n",
        "  print(\"Color is not Red or Blue\")"
      ],
      "metadata": {
        "id": "7lQ1xStOWUpw"
      },
      "execution_count": null,
      "outputs": []
    },
    {
      "cell_type": "markdown",
      "source": [
        "**Ans 13.)**\n",
        "For loop:\n",
        "  * For loop is used to execute the code having same data to print with some variation.\n",
        "  * For loop has a fix range and it will execute the data within that range.\n",
        "While loop:\n",
        "  * While loop is used to execute a code under a condition.\n",
        "  * While loop carries a statement and if the condition of the while loop get true then it will execute that statement or if it fails then else part get execute.\n"
      ],
      "metadata": {
        "id": "HRiPFh0zY6FR"
      }
    },
    {
      "cell_type": "markdown",
      "source": [
        "**Ans 14.)** The program where a while loop is more suitable than for loop is as :"
      ],
      "metadata": {
        "id": "z9kDZNdSaxJ7"
      }
    },
    {
      "cell_type": "code",
      "source": [
        "a=int(input(\"Enter the temperature(*c): \"))\n",
        "while(a<25):\n",
        "  print(\"The temperature is normal\")\n",
        "else:\n",
        "  print(\"the temperature is hot\")"
      ],
      "metadata": {
        "id": "vk_7uCS8bM_y"
      },
      "execution_count": null,
      "outputs": []
    },
    {
      "cell_type": "markdown",
      "source": [
        "This code in for loop format is as:"
      ],
      "metadata": {
        "id": "kAoeFuNJcC6Q"
      }
    },
    {
      "cell_type": "code",
      "source": [
        "a=int(input(\"Enter the temperature(*c): \"))\n",
        "for i in range(1):\n",
        "  if(a<25):\n",
        "    print(\"The temperature is normal\")\n",
        "  else:\n",
        "    print(\"the temperature is hot\")"
      ],
      "metadata": {
        "id": "VZmhtQQ1cf_E"
      },
      "execution_count": null,
      "outputs": []
    },
    {
      "cell_type": "markdown",
      "source": [
        "Here for loop shows the same result however it is more easy to use while loop here as it is more easy to understand."
      ],
      "metadata": {
        "id": "0mww2qN6cuTg"
      }
    },
    {
      "cell_type": "markdown",
      "source": [
        "#**Practical Questions**"
      ],
      "metadata": {
        "id": "vKstGkAiq8zy"
      }
    },
    {
      "cell_type": "markdown",
      "source": [
        "**Ans 1.)**\n",
        "The python program to print \"Hello, World!\"is as:\n"
      ],
      "metadata": {
        "id": "of441uHFptFi"
      }
    },
    {
      "cell_type": "code",
      "execution_count": null,
      "metadata": {
        "id": "-bmxcRLgTHAL"
      },
      "outputs": [],
      "source": [
        "print(\"Hello, World!\")"
      ]
    },
    {
      "cell_type": "markdown",
      "source": [
        "**Ans 2.)** The program that display user's name and age is as:"
      ],
      "metadata": {
        "id": "2hYvKpwvqy_7"
      }
    },
    {
      "cell_type": "code",
      "source": [
        "a=input(\"Enter your name: \")\n",
        "b=int(input(\"Enter your age: \"))\n",
        "print(f\"So your name is {a} and your age is {b}.\")"
      ],
      "metadata": {
        "id": "qZ380FdUrq2B"
      },
      "execution_count": null,
      "outputs": []
    },
    {
      "cell_type": "markdown",
      "source": [
        "**Ans 3.)** The program to to print all pre-defined keywords in python is as:"
      ],
      "metadata": {
        "id": "oDNoLXYMsR4W"
      }
    },
    {
      "cell_type": "code",
      "source": [
        "help(\"keywords\")"
      ],
      "metadata": {
        "id": "gpwhOVeXsnyG"
      },
      "execution_count": null,
      "outputs": []
    },
    {
      "cell_type": "markdown",
      "source": [
        "**Ans 4.)** The program to check whether any word is a keyword or not is as:"
      ],
      "metadata": {
        "id": "t1R2T0KKtESV"
      }
    },
    {
      "cell_type": "code",
      "source": [
        "a=input(\"Enter the word: \")\n",
        "b=[\"False\",\"class\",\"from\",\"or\",\"None\",\"continue\",\"global\",\"pass\",\"True\",\"def\",\"if\",\"raise\",\"and\",\"del\",\"import\",\"return\",\"as\",\"elif\",\n",
        "   \"in\",\"try\",\"assert\",\"else\",\"is\",\"while\",\"async\",\"except\",\"lambda\",\"with\",\"await\",\"finally\",\"nonlocal\",\"yield\",\"break\",\"for\",\"not\"  ]\n",
        "if a in b:\n",
        "  print(f\"{a} is a keyword.\")\n",
        "else:\n",
        "  print(f\"{a} is not a keyword.\")"
      ],
      "metadata": {
        "id": "H1FfndmAtdRD"
      },
      "execution_count": null,
      "outputs": []
    },
    {
      "cell_type": "markdown",
      "source": [
        "**Ans 5.)**"
      ],
      "metadata": {
        "id": "vyYYox8au2vw"
      }
    },
    {
      "cell_type": "code",
      "source": [
        "#defining list and tuple\n",
        "\n",
        "a=[4,9,\"who\",5,\"not\",\"@\",\"this\",8]\n",
        "b=(4,9,\"who\",5,\"not\",\"@\",\"this\",8)\n",
        "type(a)\n",
        "type(b)\n",
        "\n",
        "#Changing the elements\n",
        "\n",
        "a[5]=\"like\" #accepted\n",
        "print(a)\n",
        "b[5]=\"like\" #Unaccepted, will show error\n",
        "print(b)"
      ],
      "metadata": {
        "id": "-2bJQMvAu7Xd"
      },
      "execution_count": null,
      "outputs": []
    },
    {
      "cell_type": "markdown",
      "source": [
        "**Ans 6.)**\n",
        "\n",
        "*   Mutable continers are those data spaces which allow the changement in it's element (like a list).\n",
        "*   An unmutable container is like a permanent Data space where if an element get stored it is not possible to change it.\n",
        "\n"
      ],
      "metadata": {
        "id": "dqPM1bNcwu7n"
      }
    },
    {
      "cell_type": "code",
      "source": [
        "list_any=[7,3,\"cake\",94,45.9,\"false\",56,\"take\"]\n",
        "tuple_any=(7,3,\"cake\",94,45.9,\"false\",56,\"take\")\n",
        "\n",
        "list_any[0]=\"dish\"\n",
        "print(list_any)\n",
        "tuple_any[0]=\"dish\"\n",
        "print(tuple_any)\n"
      ],
      "metadata": {
        "id": "-HARgFvrxC83"
      },
      "execution_count": null,
      "outputs": []
    },
    {
      "cell_type": "markdown",
      "source": [
        "Like here as list is mutable so it accepted the changement.\n",
        "Howerver the tuple can't due to it's unmutable nature."
      ],
      "metadata": {
        "id": "OmvQNcrjzVWS"
      }
    },
    {
      "cell_type": "markdown",
      "source": [
        "**Ans 7.)** The program to perform basic arithmetic operation is as:"
      ],
      "metadata": {
        "id": "neLnXRx6zqr4"
      }
    },
    {
      "cell_type": "code",
      "source": [
        "#This is a calculator program for simple simple arithmetic operations\n",
        "\n",
        "print(\"Choose the option you want to perform\")\n",
        "print(\"1. Add\\n 2. Sub\\n 3. Mul\\n 4. Divide\\n\")\n",
        "a=int(input(\"Enter the option: \"))\n",
        "while(a>=5):\n",
        "  print(\"No operation is defined for this number. Please try again!\")\n",
        "  a=int(input(\"Enter the option: \"))\n",
        "else:\n",
        "  b=int(input(\"Enter the first number: \"))\n",
        "  c=int(input(\"Enter the second number: \"))\n",
        "  if(a==1):\n",
        "    d1=b+c\n",
        "    print(f\"The result is: {d1}\")\n",
        "  elif(a==2):\n",
        "    d2=b-c\n",
        "    print(f\"The result is: {d2}\")\n",
        "  elif(a==3):\n",
        "    d3=b*c\n",
        "    print(f\"The result is: {d3}\")\n",
        "  else:\n",
        "    d4=b/c\n",
        "    print(f\"The result is: {d4}\")"
      ],
      "metadata": {
        "id": "vF7Gia9y2DqO"
      },
      "execution_count": null,
      "outputs": []
    },
    {
      "cell_type": "markdown",
      "source": [
        "**Ans 8.)** The use of logical operators are as:\n",
        "        \n",
        "\n",
        "*  (i) And operator : Let an AI model checking if two cars moving towards each other .\n",
        "  *  eg:\n",
        "         * Let a = possibility of car 1 accident\n",
        "         * b = possibility of car 2 accident\n",
        "         * c= possibility of a an accident between both cars\n",
        "\n"
      ],
      "metadata": {
        "id": "4_RP2tZ2BRVg"
      }
    },
    {
      "cell_type": "code",
      "source": [
        "# so it will result as\n",
        "a=bool(int(input(\"enter the possibility(0/1): \")))\n",
        "b=bool(int(input(\"enter the possibility(0/1): \")))\n",
        "if(a==True and b==True):\n",
        "  print(True and True)\n",
        "\n",
        "elif(a==True and b==False):\n",
        "  print(True and False)\n",
        "\n",
        "elif(a==False and b==True):\n",
        "  print(False and True)\n",
        "\n",
        "else:\n",
        "  print(False and False)"
      ],
      "metadata": {
        "id": "pVVgd0w2BajE"
      },
      "execution_count": null,
      "outputs": []
    },
    {
      "cell_type": "markdown",
      "source": [
        "\n",
        "\n",
        "*   If the result is True then accident will occur\n",
        "*   If the result is False then accident will not occur\n",
        "\n"
      ],
      "metadata": {
        "id": "PiwIxQ1mMdWU"
      }
    },
    {
      "cell_type": "markdown",
      "source": [
        "* (ii) Or Operator: Let someone is predicting the grass to be wet the next morning.\n",
        "\n",
        "    * Let a = water sprinkled by sprinkler\n",
        "    * Let b = rain occur that day"
      ],
      "metadata": {
        "id": "mgkorrs_M4fI"
      }
    },
    {
      "cell_type": "code",
      "source": [
        "a=bool(int(input(\"enter the possibility(0/1): \")))\n",
        "b=bool(int(input(\"enter the possibility(0/1): \")))\n",
        "if(a==True and b==True):\n",
        "  print(True or True)\n",
        "\n",
        "elif(a==True and b==False):\n",
        "  print(True or False)\n",
        "\n",
        "elif(a==False and b==True):\n",
        "  print(False or True)\n",
        "\n",
        "else:\n",
        "  print(False or False)\n"
      ],
      "metadata": {
        "id": "inMIMg9zLGFk"
      },
      "execution_count": null,
      "outputs": []
    },
    {
      "cell_type": "markdown",
      "source": [
        "If the output is true means the next day grass will be wet.\n",
        "But if the output is false then the grass will remain dry."
      ],
      "metadata": {
        "id": "bvWoMtiiPt1a"
      }
    },
    {
      "cell_type": "markdown",
      "source": [
        "* (iii)*Not Operator*: It is the negation of the input."
      ],
      "metadata": {
        "id": "FuCVQTBwQfGB"
      }
    },
    {
      "cell_type": "code",
      "source": [
        "a=bool(int(input(\"enter the possibility(0/1): \")))\n",
        "print(not a)"
      ],
      "metadata": {
        "id": "Kq8RmC2WTjSu"
      },
      "execution_count": null,
      "outputs": []
    },
    {
      "cell_type": "markdown",
      "source": [
        "**Ans 9.)** The program to convert user define sting in other data types is as:"
      ],
      "metadata": {
        "id": "DrBFc4aYUM2p"
      }
    },
    {
      "cell_type": "code",
      "source": [
        "a=input(\"Enter the string: \")\n",
        "print(\"choose the data type conversion format \\n1.integer \\n2.float \\n3.boolean\")\n",
        "b=int(input(\"Enter the option: \"))\n",
        "if(b==1):\n",
        "  print(int(a))\n",
        "elif(b==2):\n",
        "  print(float(a))\n",
        "else:\n",
        "  print(bool(a))"
      ],
      "metadata": {
        "id": "IxOTNiyoVDjl"
      },
      "execution_count": null,
      "outputs": []
    },
    {
      "cell_type": "markdown",
      "source": [
        "**Ans 10.)** Type casting of list's elements is as:\n",
        "          * Eg:\n",
        "               * List_1=[1,\"4\",\"python\",13,\"Park\"]"
      ],
      "metadata": {
        "id": "pbM9eERLWpwJ"
      }
    },
    {
      "cell_type": "code",
      "source": [
        "List_1=[1,\"4\",\"python\",13,\"Park\"]\n",
        "\n",
        "#converting str-> int\n",
        "List_1[1]=int(List_1[1])\n",
        "print(List_1)\n",
        "\n",
        "#converting int-> float\n",
        "List_1[3]=float(List_1[3])\n",
        "print(List_1)\n",
        "\n",
        "#converting int-> bool\n",
        "List_1[0]=bool(List_1[0])\n",
        "print(List_1)\n"
      ],
      "metadata": {
        "id": "ac8xeQSJXdmz"
      },
      "execution_count": null,
      "outputs": []
    },
    {
      "cell_type": "markdown",
      "source": [
        "**Ans 11.)** The program to check whether a number is a positive, zero or a negative number."
      ],
      "metadata": {
        "id": "j1AorKPJbI3F"
      }
    },
    {
      "cell_type": "code",
      "source": [
        "a=int(input(\"Enter the number: \"))\n",
        "if(a>0):\n",
        "  print(f\"{a} is a positive number.\")\n",
        "elif(a==0):\n",
        "  print(f\"{a} is zero.\")\n",
        "else:\n",
        "  print(f\"{a} is a negative number.\")"
      ],
      "metadata": {
        "id": "NJr1IdeKbjN0"
      },
      "execution_count": null,
      "outputs": []
    },
    {
      "cell_type": "markdown",
      "source": [
        "**Ans 12.)** The program to print \"0 to 50\" counting by for loop is as:"
      ],
      "metadata": {
        "id": "WxHhQLr5c3bz"
      }
    },
    {
      "cell_type": "code",
      "source": [
        "for i in range (0,51):\n",
        "  print(i)"
      ],
      "metadata": {
        "id": "DSv_2w60ccFA"
      },
      "execution_count": null,
      "outputs": []
    },
    {
      "cell_type": "markdown",
      "source": [
        "**Ans 13.)** The program to print sum of all numbers from 1 to 50 is as:"
      ],
      "metadata": {
        "id": "At6aJstadU7-"
      }
    },
    {
      "cell_type": "code",
      "source": [
        "sum=0\n",
        "for i in range (1,51):\n",
        "  sum+=i\n",
        "print(sum)"
      ],
      "metadata": {
        "colab": {
          "base_uri": "https://localhost:8080/"
        },
        "id": "L8XtRRCNcxfG",
        "outputId": "515201f7-c382-410b-ae75-17ae2aff4d47"
      },
      "execution_count": null,
      "outputs": [
        {
          "output_type": "stream",
          "name": "stdout",
          "text": [
            "1275\n"
          ]
        }
      ]
    },
    {
      "cell_type": "markdown",
      "source": [
        "**Ans 14.)** The program to print the inverse of a string using while loop is as :"
      ],
      "metadata": {
        "id": "UrkDX-ZrgS4L"
      }
    },
    {
      "cell_type": "code",
      "source": [
        "a=input(\"Enter the string: \")\n",
        "b=len(a)\n",
        "c=b-1\n",
        "while(c>=0):\n",
        "  print(a[c])\n",
        "  c-=1\n",
        "else:\n",
        "  print(\"\\nEnd of the program.\")\n"
      ],
      "metadata": {
        "id": "-pZ6HFRSglqc"
      },
      "execution_count": null,
      "outputs": []
    },
    {
      "cell_type": "markdown",
      "source": [
        "**Ans 15.)** The program to calculate the factorial of a number using while loop is as:"
      ],
      "metadata": {
        "id": "166qu9Uzj1Ak"
      }
    },
    {
      "cell_type": "code",
      "source": [
        "a=int(input(\"enter the number of which you want to find factorial:\"))\n",
        "i=1\n",
        "fact=1\n",
        "while(i<=a):\n",
        "  fact=fact*i\n",
        "  i+=1\n",
        "print(fact)"
      ],
      "metadata": {
        "id": "BOEcofZZkHmj"
      },
      "execution_count": null,
      "outputs": []
    }
  ]
}